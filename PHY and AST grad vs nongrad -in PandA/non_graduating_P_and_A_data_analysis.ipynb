{
 "cells": [
  {
   "cell_type": "code",
   "execution_count": 52,
   "metadata": {
    "collapsed": true
   },
   "outputs": [],
   "source": [
    "import matplotlib.pyplot as plt #used to make the plots below\n",
    "%matplotlib inline  \n",
    "#makes them print in the jupyter notebook\n",
    "import numpy as np              #because numpy is amazing....       \n",
    "import pandas as pd             #Use this for data loading and statistics\n",
    "import collections as cl"
   ]
  },
  {
   "cell_type": "code",
   "execution_count": 2,
   "metadata": {
    "collapsed": false,
    "scrolled": true
   },
   "outputs": [
    {
     "name": "stdout",
     "output_type": "stream",
     "text": [
      "1323\n",
      "                             placeholderID Gender             Ethnicity  \\\n",
      "188   9BB4CCDA-7BF4-4E0A-B320-005DCF34CA59      M  White (non-Hispanic)   \n",
      "291   3AD17D18-4FEB-4116-8814-0086F649D969      M         International   \n",
      "629   128348BA-5824-43F5-9D26-0106E6B9A7BD      M  White (non-Hispanic)   \n",
      "637   4B130B05-3512-4589-B107-010B5D6690A8      M  White (non-Hispanic)   \n",
      "1074  7AFA4E6D-8545-481E-8091-01B1545A8084      M         International   \n",
      "\n",
      "      citizenship First_Gen Pell_eligible permanent_ZIP Entering_term_code  \\\n",
      "188    US Citizen         N             N         28269               FS03   \n",
      "291   Non Citizen         N             N           NaN               US05   \n",
      "629    US Citizen         N             Y         48322               FS07   \n",
      "637    US Citizen         N             N         48917               FS07   \n",
      "1074  Non Citizen         Y             N         48823               FS12   \n",
      "\n",
      "      Entering_Term_Major_code  Entering_Term_Major_name      ...        \\\n",
      "188                     2403.0   Mechanical Engineering       ...         \n",
      "291                     2350.0   Electrical Engineering       ...         \n",
      "629                     3742.0              Mathematics       ...         \n",
      "637                     2403.0   Mechanical Engineering       ...         \n",
      "1074                    2403.0   Mechanical Engineering       ...         \n",
      "\n",
      "     ACT_COMP ACT_EW ap66 calculus AB ap68 calculus BC  \\\n",
      "188      29.0                     NaN              4.0   \n",
      "291       NaN    NaN              NaN              NaN   \n",
      "629      27.0     25              NaN              NaN   \n",
      "637      23.0    NaN              5.0              NaN   \n",
      "1074      NaN    NaN              NaN              NaN   \n",
      "\n",
      "      ap69 Calculus AB Subscore Grade ap78 physics B ap80 physics C Mech  \\\n",
      "188                               5.0            3.0                 NaN   \n",
      "291                               NaN            NaN                 NaN   \n",
      "629                               NaN            NaN                 NaN   \n",
      "637                               NaN            NaN                 NaN   \n",
      "1074                              NaN            NaN                 NaN   \n",
      "\n",
      "     ap82 physics C Physics C Electricity & Magnet ap83 physics 1  \\\n",
      "188                                            NaN            NaN   \n",
      "291                                            NaN            NaN   \n",
      "629                                            NaN            NaN   \n",
      "637                                            NaN            NaN   \n",
      "1074                                           NaN            NaN   \n",
      "\n",
      "     ap84 physics 2  \n",
      "188             NaN  \n",
      "291             NaN  \n",
      "629             NaN  \n",
      "637             NaN  \n",
      "1074            NaN  \n",
      "\n",
      "[5 rows x 40 columns]\n"
     ]
    }
   ],
   "source": [
    "df_non_grad_demographs=pd.read_excel(\"non_grad_P_A_students_unenrolled_demograph.xlsx\")  #load the data frame\n",
    "print(len(df_non_grad_demographs)) #check make sure this is 1323\n",
    "print(df_non_grad_demographs.head())"
   ]
  },
  {
   "cell_type": "code",
   "execution_count": 3,
   "metadata": {
    "collapsed": false
   },
   "outputs": [
    {
     "name": "stdout",
     "output_type": "stream",
     "text": [
      "11395\n",
      "                            placeholderID  term_seq_id term_code subj_code  \\\n",
      "665  9BB4CCDA-7BF4-4E0A-B320-005DCF34CA59         1032      US03       MTH   \n",
      "666  9BB4CCDA-7BF4-4E0A-B320-005DCF34CA59         1032      US03       MTH   \n",
      "667  9BB4CCDA-7BF4-4E0A-B320-005DCF34CA59         1034      FS03       MTH   \n",
      "668  9BB4CCDA-7BF4-4E0A-B320-005DCF34CA59         1036      SS04       MTH   \n",
      "669  9BB4CCDA-7BF4-4E0A-B320-005DCF34CA59         1044      FS04       PHY   \n",
      "\n",
      "    crse_code  sctn_code grade_code repeat_status_flag  major_code  \\\n",
      "665       132        NaN          T                NaN        2403   \n",
      "666       133        NaN          T                NaN        2403   \n",
      "667       234       60.0        3.0                           2403   \n",
      "668       235        2.0        1.0                 PR        2403   \n",
      "669       183        1.0        2.0                           2403   \n",
      "\n",
      "                   major_name               dept_name college_name  \\\n",
      "665   Mechanical Engineering   Mechanical Engineering  Engineering   \n",
      "666   Mechanical Engineering   Mechanical Engineering  Engineering   \n",
      "667   Mechanical Engineering   Mechanical Engineering  Engineering   \n",
      "668   Mechanical Engineering   Mechanical Engineering  Engineering   \n",
      "669   Mechanical Engineering   Mechanical Engineering  Engineering   \n",
      "\n",
      "      major_type  \n",
      "665  Engineering  \n",
      "666  Engineering  \n",
      "667  Engineering  \n",
      "668  Engineering  \n",
      "669  Engineering  \n"
     ]
    }
   ],
   "source": [
    "df_non_grad_class=pd.read_excel(\"non_grad_P_A_students_unenrolled_class.xlsx\")\n",
    "print(len(df_non_grad_class)) \n",
    "print(df_non_grad_class.head())"
   ]
  },
  {
   "cell_type": "code",
   "execution_count": 36,
   "metadata": {
    "collapsed": false
   },
   "outputs": [
    {
     "name": "stdout",
     "output_type": "stream",
     "text": [
      "{'M': [1127], 'F': [196]}\n"
     ]
    }
   ],
   "source": [
    "gender=df_non_grad_demographs[\"Gender\"].unique()\n",
    "result={}\n",
    "for mf in gender:\n",
    "    dem_count=df_non_grad_demographs[df_non_grad_demographs.Gender==mf] #this will now take the terms and sort out the grades\n",
    "    if mf not in result:                                 #this is to not count if there is no counts for the grade           \n",
    "        result[mf]=[]                                   #adds a 0 to the count\n",
    "    result[mf].append(len(dem_count))\n",
    "print(result)\n",
    "    "
   ]
  },
  {
   "cell_type": "code",
   "execution_count": 38,
   "metadata": {
    "collapsed": false
   },
   "outputs": [
    {
     "name": "stdout",
     "output_type": "stream",
     "text": [
      "{'White (non-Hispanic)': [950], 'Black or African American  (non-Hispanic)': [82], 'Hispanic Ethnicity': [46], 'American Indian/Alaskan Native (non-Hispanic)': [6], 'Asian / Pacific Islander': [29], 'Asian (non-Hispanic)': [39], 'Two or more races (non-Hispanic)': [18], 'Not Reported': [19], 'International': [134]}\n"
     ]
    }
   ],
   "source": [
    "unique=df_non_grad_demographs[\"Ethnicity\"].unique()\n",
    "result={}\n",
    "for mf in unique:\n",
    "    count=df_non_grad_demographs[df_non_grad_demographs.Ethnicity==mf] #this will now take the terms and sort out the grades\n",
    "    if mf not in result:                                 #this is to not count if there is no counts for the grade           \n",
    "        result[mf]=[]                                   #adds a 0 to the count\n",
    "    result[mf].append(len(count))\n",
    "print(result)\n",
    "    "
   ]
  },
  {
   "cell_type": "code",
   "execution_count": 39,
   "metadata": {
    "collapsed": false
   },
   "outputs": [
    {
     "name": "stdout",
     "output_type": "stream",
     "text": [
      "{'non STEM': [167], 'Engineering': [469], nan: [0], 'Physics/Astrophysics': [318], 'Education': [1], 'Other STEM': [308]}\n"
     ]
    }
   ],
   "source": [
    "unique=df_non_grad_demographs[\"Last_enrolled_major_type\"].unique()\n",
    "result={}\n",
    "for mf in unique:\n",
    "    count=df_non_grad_demographs[df_non_grad_demographs.Last_enrolled_major_type==mf] #this will now take the terms and sort out the grades\n",
    "    if mf not in result:                                 #this is to not count if there is no counts for the grade           \n",
    "        result[mf]=[]                                   #adds a 0 to the count\n",
    "    result[mf].append(len(count))\n",
    "print(result)"
   ]
  },
  {
   "cell_type": "code",
   "execution_count": 40,
   "metadata": {
    "collapsed": false
   },
   "outputs": [
    {
     "name": "stdout",
     "output_type": "stream",
     "text": [
      "{nan: [0], 'non STEM': [144], 'Engineering': [447], 'Education': [1], 'Other STEM': [257]}\n"
     ]
    }
   ],
   "source": [
    "unique=df_non_grad_demographs[\"grad_major_type\"].unique()\n",
    "result={}\n",
    "for mf in unique:\n",
    "    count=df_non_grad_demographs[df_non_grad_demographs.grad_major_type==mf] #this will now take the terms and sort out the grades\n",
    "    if mf not in result:                                 #this is to not count if there is no counts for the grade           \n",
    "        result[mf]=[]                                   #adds a 0 to the count\n",
    "    result[mf].append(len(count))\n",
    "print(result)"
   ]
  },
  {
   "cell_type": "code",
   "execution_count": 62,
   "metadata": {
    "collapsed": false
   },
   "outputs": [
    {
     "name": "stdout",
     "output_type": "stream",
     "text": [
      "1323\n",
      "[(' Agribusiness Management ', [1]), (' Genomics & Molecular Genetics ', [1]), (' Entomology ', [1]), (' Neuroscience ', [1]), (' Interior Design ', [1]), (' Theatre ', [1]), (' Russian ', [1]), (' Marketing ', [1]), (' Animal Science ', [1]), (' Jazz Studies ', [1]), (' Park, Recreation & Tourism Res ', [1]), (' Music Education ', [1]), (' Japanese ', [1]), (' Hist,Philosophy & Soc of Sci ', [1]), (' Geological Sciences ', [1]), (' Chinese ', [1]), (' Intr Stdy Soc Sci Health Stdy', [1]), (' Apparel and Textile Design ', [1]), (' Interdisciplinary Humanities ', [1]), (' Biochem&Molecular Biol/Biotech ', [1]), (' Education ', [1]), (' Forestry ', [1]), (' Geographic Information Science ', [1]), (' Telecommunication ', [1]), (' Building Construction Mgt ', [1]), (' Mathematics, Advanced ', [1]), (' Crop and Soil Sciences ', [1]), (' Diagnostic Molecular Science ', [1]), (' Sociology ', [2]), (' Food Science ', [2]), (' General Business Admin Prelaw', [2]), (' Spanish ', [2]), (' Microbiology ', [2]), (' Intr Studies in Social Science ', [2]), (' Biomedical Laboratory Science ', [2]), (' East Asian Languages & Culture ', [2]), (' General Management ', [2]), (' Envir Studies and Agriscience ', [2]), (' Professional Writing ', [2]), (' Horticulture ', [2]), (' Computational Mathematics ', [3]), (' Earth Science ', [3]), (' Studio Art ', [3]), (' Food Industry Management ', [3]), (' Hospitality Business ', [3]), (' History ', [3]), (' Medical Technology ', [3]), (' Supply Chain Management ', [3]), (' Zoology ', [4]), (' Urban and Regional Planning ', [4]), (' Philosophy ', [4]), (' Intr Stdy Soc Sci Hm Res Scty', [4]), (' Chemical Physics ', [4]), (' Environmental Engineering ', [4]), (' Technology Systems Management ', [5]), (' Media Arts and Technology ', [5]), (' Chemical Engineering ', [5]), (' Geography ', [5]), (' Kinesiology ', [5]), (' Actuarial Science ', [5]), (' Advertising ', [5]), (' Biochemistry & Molecular Biol ', [5]), (' Physiology ', [5]), (' Statistics ', [5]), (' Fisheries and Wildlife ', [6]), (' Human Biology ', [6]), (' Media and Communication Tech ', [6]), (' Anthropology ', [6]), (' English ', [6]), (' Criminal Justice ', [6]), (' Finance ', [7]), (' Political Science ', [7]), (' Physical Science ', [7]), (' Engineering Arts ', [8]), (' Accounting ', [8]), (' Environmental Geosciences ', [8]), (' Psychology ', [10]), (' Chemistry ', [11]), (' Biosystems Engineering ', [11]), (' Communication ', [11]), (' Construction Management ', [16]), (' Media and Information ', [16]), (' Telecomm, Info Studies & Media ', [16]), (' Materials Sci and Engineering ', [19]), (' Computer Engineering ', [25]), (' Economics ', [26]), (' Mathematics ', [26]), (' Computer Science ', [56]), (' Electrical Engineering ', [70]), (' Packaging ', [71]), (' Civil Engineering ', [72]), (' Applied Engineering Sciences ', [78]), (' Mechanical Engineering ', [84]), (' ', [474])]\n"
     ]
    }
   ],
   "source": [
    "\n",
    "unique=df_non_grad_demographs[\"grad_major_name\"].unique()\n",
    "\n",
    "result={}\n",
    "for mf in unique:\n",
    "    count=df_non_grad_demographs[df_non_grad_demographs.grad_major_name==mf] #this will now take the terms and sort out the grades\n",
    "    if mf not in result:                                 #this is to not count if there is no counts for the grade           \n",
    "        result[mf]=[]                                   #adds a 0 to the count\n",
    "    result[mf].append(len(count))\n",
    "print(np.sum(list(result.values())))\n",
    "result=sorted(result.items(), key=lambda x: x[1])\n",
    "#print(result)\n"
   ]
  },
  {
   "cell_type": "code",
   "execution_count": 63,
   "metadata": {
    "collapsed": false
   },
   "outputs": [
    {
     "name": "stdout",
     "output_type": "stream",
     "text": [
      "1263\n",
      "[(nan, [0]), ('non STEM', [34]), ('Lyman Briggs', [41]), ('No Preference', [75]), ('Other STEM', [128]), ('Engineering', [409]), ('Physics/Astrophysics', [576])]\n"
     ]
    }
   ],
   "source": [
    "unique=df_non_grad_demographs[\"Entering_term_major_type\"].unique()\n",
    "\n",
    "result={}\n",
    "for mf in unique:\n",
    "    count=df_non_grad_demographs[df_non_grad_demographs.Entering_term_major_type==mf] #this will now take the terms and sort out the grades\n",
    "    if mf not in result:                                 #this is to not count if there is no counts for the grade           \n",
    "        result[mf]=[]                                   #adds a 0 to the count\n",
    "    result[mf].append(len(count))\n",
    "print(np.sum(list(result.values())))\n",
    "result=sorted(result.items(), key=lambda x: x[1])\n",
    "print(result)"
   ]
  },
  {
   "cell_type": "code",
   "execution_count": 65,
   "metadata": {
    "collapsed": false
   },
   "outputs": [
    {
     "name": "stdout",
     "output_type": "stream",
     "text": [
      "150\n"
     ]
    }
   ],
   "source": [
    "unique=df_non_grad_demographs[\"other_awards\"].unique()\n",
    "\n",
    "result={}\n",
    "for mf in unique:\n",
    "    count=df_non_grad_demographs[df_non_grad_demographs.other_awards==mf] #this will now take the terms and sort out the grades\n",
    "    if mf not in result:                                 #this is to not count if there is no counts for the grade           \n",
    "        result[mf]=[]                                   #adds a 0 to the count\n",
    "    result[mf].append(len(count))\n",
    "print(np.sum(list(result.values())))\n",
    "result=sorted(result.items(), key=lambda x: x[1])\n",
    "#print(result)"
   ]
  },
  {
   "cell_type": "code",
   "execution_count": 78,
   "metadata": {
    "collapsed": false
   },
   "outputs": [
    {
     "name": "stdout",
     "output_type": "stream",
     "text": [
      "English ACT scores\n",
      "count    836.000000\n",
      "mean      24.196172\n",
      "std        4.830520\n",
      "min        6.000000\n",
      "25%             NaN\n",
      "50%             NaN\n",
      "75%             NaN\n",
      "max       36.000000\n",
      "Name: ACT_ENGL, dtype: float64\n",
      "Math ACT scores\n",
      "count    836.000000\n",
      "mean      26.606459\n",
      "std        4.228436\n",
      "min       14.000000\n",
      "25%             NaN\n",
      "50%             NaN\n",
      "75%             NaN\n",
      "max       36.000000\n",
      "Name: ACT_MATH, dtype: float64\n",
      "Reading ACT scores\n",
      "count    836.000000\n",
      "mean      25.177033\n",
      "std        5.296683\n",
      "min       11.000000\n",
      "25%             NaN\n",
      "50%             NaN\n",
      "75%             NaN\n",
      "max       36.000000\n",
      "Name: ACT_READ, dtype: float64\n",
      "Science ACT scores\n",
      "count    836.000000\n",
      "mean      25.960526\n",
      "std        4.198046\n",
      "min       12.000000\n",
      "25%             NaN\n",
      "50%             NaN\n",
      "75%             NaN\n",
      "max       36.000000\n",
      "Name: ACT_SCI, dtype: float64\n",
      "Overall ACT scores\n",
      "count    836.000000\n",
      "mean      25.430622\n",
      "std        3.988453\n",
      "min       15.000000\n",
      "25%             NaN\n",
      "50%             NaN\n",
      "75%             NaN\n",
      "max       36.000000\n",
      "Name: ACT_COMP, dtype: float64\n"
     ]
    },
    {
     "name": "stderr",
     "output_type": "stream",
     "text": [
      "C:\\Users\\joeyp\\Anaconda3\\lib\\site-packages\\numpy\\lib\\function_base.py:3823: RuntimeWarning: Invalid value encountered in percentile\n",
      "  RuntimeWarning)\n"
     ]
    }
   ],
   "source": [
    "print(\"English ACT scores\")\n",
    "print(df_non_grad_demographs.ACT_ENGL.describe())\n",
    "print(\"Math ACT scores\")\n",
    "print(df_non_grad_demographs.ACT_MATH.describe())\n",
    "print(\"Reading ACT scores\")\n",
    "print(df_non_grad_demographs.ACT_READ.describe())\n",
    "print(\"Science ACT scores\")\n",
    "print(df_non_grad_demographs.ACT_SCI.describe())\n",
    "print(\"Overall ACT scores\")\n",
    "print(df_non_grad_demographs.ACT_COMP.describe())"
   ]
  },
  {
   "cell_type": "markdown",
   "metadata": {},
   "source": [
    "#### Below is the older code that I used to find GPA's which I ran on the data set I have created"
   ]
  },
  {
   "cell_type": "code",
   "execution_count": 4,
   "metadata": {
    "collapsed": true
   },
   "outputs": [],
   "source": [
    "def Average_GPAs_of_Major_category(data_frame,subject,course,course_name):\n",
    "\n",
    "    print('\\x1b[1;32m' + \" GPA's for Majors in\"+'\\x1b[0m',subject,course,\"       \",course_name) #this formats and print the title of the output\n",
    "    class_sort=data_frame[data_frame.crse_code==course]              #this will create a new data set will just the course\n",
    "    subject_sort=class_sort[class_sort.subj_code==subject]       #this will sort it through even more with the subject\n",
    "\n",
    "    unique_major_type=list(subject_sort[\"major_type\"].unique()) #this creates a list of all the major categories\n",
    "    unique_major_type=np.sort(unique_major_type)                #this sorts the list so that it is the same each time\n",
    "\n",
    "    fmt_str = \"{:21} | GPA: {:1.4f} | Sample Size: {:<6}\"     #this is the format of the output\n",
    "    unique_grade =[\"0.0\",\"1.0\",\"1.5\",\"2.0\",\"2.5\",\"3.0\",\"3.5\",\"4.0\"] #this will be the grades we will look for\n",
    "    total_counts=0                   #this will be added to, to give us the total sample size for the course\n",
    "\n",
    "    for major_cat in unique_major_type:\n",
    "        major_cat_sort=subject_sort[subject_sort.major_type==major_cat] #this will loop through each major category \n",
    "        if len(major_cat_sort) <=20:              #this leaves out the major categories if there is no counts for it\n",
    "            continue\n",
    "\n",
    "\n",
    "        result= {}                                     #We will add the grade counts to a dictionary to use later\n",
    "        for grade in unique_grade:                     #loops through the grades and counts them\n",
    "            grade_term_sort=major_cat_sort[major_cat_sort.grade_code==grade] #this will now take the majors and sort out the grades\n",
    "\n",
    "            if grade not in result:                      #this is to not count if there is no counts for the grade\n",
    "                result[grade]=[]                          #adds a 0 to the count\n",
    "            result[grade].append(len(grade_term_sort))    #this will append the counts to the dictonary for each grade\n",
    "        #print(result)\n",
    "\n",
    "        top=0                         #this will be the numerator to find the average gpa\n",
    "        bottom=0                      #this will be the demoninator to find the average with\n",
    "        for key,value in result.items():  #this will loop through the dictonary created above\n",
    "            top += float(key)*value[0]     #this will take the grade, make it a float, then multiply the counts\n",
    "            bottom += value[0]             #this takes just the counts to make the denominator\n",
    "        if bottom != 0:\n",
    "            average=top/bottom             #this now averages the gpa's of that major throughout the years\n",
    "        else:\n",
    "            print(\"{:21} | GPA: NaN    | Sample Size: None \".format(major_cat))\n",
    "            continue \n",
    "\n",
    "        sample_size=np.sum(list(result.values()))   #this will count the number of majors in the sample\n",
    "        total_counts=total_counts+sample_size       #this will add each major's counts to a totaling counts\n",
    "\n",
    "\n",
    "                #this will print out the major category, average gpa of that category, \n",
    "                #and the sample size of the number of students averaged through\n",
    "        print(fmt_str.format( major_cat, average,sample_size))    \n",
    "\n",
    "    all_result={}                                                     #we will add the grades and counts to this dictonary\n",
    "    for grades in unique_grade:                                       #this will loop through for the grades\n",
    "        grade_term_sort=subject_sort[subject_sort.grade_code==grades] #this will now take the terms and sort out the grades\n",
    "        if grade not in all_result:                                 #this is to not count if there is no counts for the grade           \n",
    "            all_result[grades]=[]                                   #adds a 0 to the count\n",
    "        all_result[grades].append(len(grade_term_sort))             #this will append the counts to the dictonary for each grade\n",
    "\n",
    "    for key,value in all_result.items():       #this will now loop through the overall dictonary\n",
    "        top += float(key)*value[0]             #this will take the grade, make it a float, then multiply the counts\n",
    "        bottom += value[0]                     #this takes just the counts to make the denominator\n",
    "    all_average=top/bottom                     #this now averages the gpa's of that major throughout the years\n",
    "\n",
    "    print(fmt_str.format('\\x1b[1;33m'+'Overall              '+'\\x1b[0m',all_average,total_counts))\n",
    "    print(\" \")\n",
    "\n"
   ]
  },
  {
   "cell_type": "code",
   "execution_count": 9,
   "metadata": {
    "collapsed": false
   },
   "outputs": [
    {
     "name": "stdout",
     "output_type": "stream",
     "text": [
      "\u001b[1;32m GPA's for Majors in\u001b[0m PHY 183         Physics for Scientists and Engineers I\n",
      "Engineering           | GPA: 2.5826 | Sample Size: 321   \n",
      "Other STEM            | GPA: 2.7963 | Sample Size: 54    \n",
      "Physics/Astrophysics  | GPA: 2.4761 | Sample Size: 293   \n",
      "\u001b[1;33mOverall              \u001b[0m | GPA: 2.5228 | Sample Size: 668   \n",
      " \n",
      "\u001b[1;32m GPA's for Majors in\u001b[0m PHY 184         Physics for Scientists and Engineers II\n",
      "Engineering           | GPA: 2.5783 | Sample Size: 249   \n",
      "Other STEM            | GPA: 2.7818 | Sample Size: 55    \n",
      "Physics/Astrophysics  | GPA: 2.4887 | Sample Size: 398   \n",
      "\u001b[1;33mOverall              \u001b[0m | GPA: 2.5207 | Sample Size: 702   \n",
      " \n",
      "\u001b[1;32m GPA's for Majors in\u001b[0m PHY 215         Thermodynamics & Modrn Physics\n",
      "Other STEM            | GPA: 2.6818 | Sample Size: 22    \n",
      "Physics/Astrophysics  | GPA: 2.2640 | Sample Size: 178   \n",
      "\u001b[1;33mOverall              \u001b[0m | GPA: 2.2992 | Sample Size: 200   \n",
      " \n",
      "\u001b[1;32m GPA's for Majors in\u001b[0m PHY 321         Classical Mechanics I\n",
      "Other STEM            | GPA: 2.1429 | Sample Size: 21    \n",
      "Physics/Astrophysics  | GPA: 1.6832 | Sample Size: 131   \n",
      "\u001b[1;33mOverall              \u001b[0m | GPA: 1.7440 | Sample Size: 152   \n",
      " \n",
      "\u001b[1;32m GPA's for Majors in\u001b[0m PHY 410         Thermal and Statistical Physics\n",
      "Physics/Astrophysics  | GPA: 1.5395 | Sample Size: 38    \n",
      "\u001b[1;33mOverall              \u001b[0m | GPA: 1.5312 | Sample Size: 38    \n",
      " \n",
      "\u001b[1;32m GPA's for Majors in\u001b[0m PHY 471         Quantum Physics I \n",
      "Physics/Astrophysics  | GPA: 1.2845 | Sample Size: 58    \n",
      "\u001b[1;33mOverall              \u001b[0m | GPA: 1.3452 | Sample Size: 58    \n",
      " \n",
      "\u001b[1;32m GPA's for Majors in\u001b[0m PHY 481          Electricity and Magnetism I\n",
      "Physics/Astrophysics  | GPA: 0.7347 | Sample Size: 49    \n",
      "\u001b[1;33mOverall              \u001b[0m | GPA: 0.8773 | Sample Size: 49    \n",
      " \n",
      "\u001b[1;32m GPA's for Majors in\u001b[0m MTH 132         Calculus I\n",
      "Engineering           | GPA: 2.1348 | Sample Size: 356   \n",
      "No Preference         | GPA: 2.1481 | Sample Size: 27    \n",
      "Other STEM            | GPA: 2.2051 | Sample Size: 78    \n",
      "Physics/Astrophysics  | GPA: 1.9360 | Sample Size: 297   \n",
      "non STEM              | GPA: 2.5000 | Sample Size: 18    \n",
      "\u001b[1;33mOverall              \u001b[0m | GPA: 2.0872 | Sample Size: 776   \n",
      " \n",
      "\u001b[1;32m GPA's for Majors in\u001b[0m MTH 133         Calculus II\n",
      "Engineering           | GPA: 1.6260 | Sample Size: 385   \n",
      "No Preference         | GPA: 2.1190 | Sample Size: 21    \n",
      "Other STEM            | GPA: 1.7762 | Sample Size: 105   \n",
      "Physics/Astrophysics  | GPA: 1.6562 | Sample Size: 413   \n",
      "non STEM              | GPA: 1.0741 | Sample Size: 27    \n",
      "\u001b[1;33mOverall              \u001b[0m | GPA: 1.6404 | Sample Size: 951   \n",
      " \n",
      "\u001b[1;32m GPA's for Majors in\u001b[0m MTH 234         Multivariable Calculus\n",
      "Engineering           | GPA: 1.7049 | Sample Size: 388   \n",
      "Other STEM            | GPA: 1.9318 | Sample Size: 88    \n",
      "Physics/Astrophysics  | GPA: 1.9082 | Sample Size: 512   \n",
      "non STEM              | GPA: 1.6579 | Sample Size: 19    \n",
      "\u001b[1;33mOverall              \u001b[0m | GPA: 1.8262 | Sample Size: 1007  \n",
      " \n",
      "\u001b[1;32m GPA's for Majors in\u001b[0m MTH 235         Differential Equations\n",
      "Engineering           | GPA: 2.0116 | Sample Size: 259   \n",
      "Other STEM            | GPA: 2.1667 | Sample Size: 57    \n",
      "Physics/Astrophysics  | GPA: 1.9857 | Sample Size: 456   \n",
      "\u001b[1;33mOverall              \u001b[0m | GPA: 1.9996 | Sample Size: 772   \n",
      " \n",
      "\u001b[1;32m GPA's for Majors in\u001b[0m MTH 309         Linear Algebra\n",
      "Other STEM            | GPA: 1.9231 | Sample Size: 65    \n",
      "Physics/Astrophysics  | GPA: 1.5467 | Sample Size: 75    \n",
      "\u001b[1;33mOverall              \u001b[0m | GPA: 1.7013 | Sample Size: 140   \n",
      " \n"
     ]
    }
   ],
   "source": [
    "Average_GPAs_of_Major_category(df_non_grad_class,\"PHY\",\"183\",\"Physics for Scientists and Engineers I\")\n",
    "\n",
    "Average_GPAs_of_Major_category(df_non_grad_class,\"PHY\",\"184\",\"Physics for Scientists and Engineers II\")\n",
    "\n",
    "Average_GPAs_of_Major_category(df_non_grad_class,\"PHY\",\"215\",\"Thermodynamics & Modrn Physics\")\n",
    "\n",
    "Average_GPAs_of_Major_category(df_non_grad_class,\"PHY\",\"321\",\"Classical Mechanics I\")\n",
    "\n",
    "Average_GPAs_of_Major_category(df_non_grad_class,\"PHY\",\"410\",\"Thermal and Statistical Physics\")\n",
    "\n",
    "Average_GPAs_of_Major_category(df_non_grad_class,\"PHY\",\"471\",\"Quantum Physics I \")\n",
    "\n",
    "Average_GPAs_of_Major_category(df_non_grad_class,\"PHY\",\"481\",\" Electricity and Magnetism I\")\n",
    "\n",
    "Average_GPAs_of_Major_category(df_non_grad_class,'MTH',\"132\", 'Calculus I')\n",
    "#Average_GPAs_of_Major_category(df_non_grad_class,'LB',\"118\" , 'LB Calculus I')\n",
    "\n",
    "Average_GPAs_of_Major_category(df_non_grad_class,'MTH',\"133\", 'Calculus II')\n",
    "#Average_GPAs_of_Major_category(df_non_grad_class,'LB',\"119\" , 'LB Calculus II')\n",
    "#Average_GPAs_of_Major_category(df_non_grad_class,'LB',\"220\", 'LB Calculus III')\n",
    "\n",
    "Average_GPAs_of_Major_category(df_non_grad_class,'MTH',\"234\",  'Multivariable Calculus')\n",
    "Average_GPAs_of_Major_category(df_non_grad_class,'MTH',\"235\", 'Differential Equations' )\n",
    "\n",
    "Average_GPAs_of_Major_category(df_non_grad_class,'MTH',\"309\", 'Linear Algebra')\n",
    "#Average_GPAs_of_Major_category(df_non_grad_class,'MTH',\"320\", 'Analysis I')\n",
    "\n",
    "#Average_GPAs_of_Major_category(df_non_grad_class,'MTH',\"310\", 'Abstract Algebra I')\n",
    "#Average_GPAs_of_Major_category(df_non_grad_class,'MTH',\"340\", 'Ordinary Differential Equations')\n"
   ]
  }
 ],
 "metadata": {
  "kernelspec": {
   "display_name": "Python [Root]",
   "language": "python",
   "name": "Python [Root]"
  },
  "language_info": {
   "codemirror_mode": {
    "name": "ipython",
    "version": 3
   },
   "file_extension": ".py",
   "mimetype": "text/x-python",
   "name": "python",
   "nbconvert_exporter": "python",
   "pygments_lexer": "ipython3",
   "version": "3.5.1"
  }
 },
 "nbformat": 4,
 "nbformat_minor": 0
}
