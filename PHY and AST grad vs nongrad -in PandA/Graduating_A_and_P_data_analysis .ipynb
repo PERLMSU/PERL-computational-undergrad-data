{
 "cells": [
  {
   "cell_type": "markdown",
   "metadata": {},
   "source": [
    "### Below I have ran the graduating in Astronomy and Physics graduates\n",
    "Although the df is labeled wrong this is actually from the graduating data only, there is one that is the non-graduating. "
   ]
  },
  {
   "cell_type": "code",
   "execution_count": 1,
   "metadata": {
    "collapsed": true
   },
   "outputs": [],
   "source": [
    "import matplotlib.pyplot as plt #used to make the plots below\n",
    "%matplotlib inline  \n",
    "#makes them print in the jupyter notebook\n",
    "import numpy as np              #because numpy is amazing....       \n",
    "import pandas as pd             #Use this for data loading and statistics\n",
    "import collections as cl"
   ]
  },
  {
   "cell_type": "code",
   "execution_count": 2,
   "metadata": {
    "collapsed": false,
    "scrolled": true
   },
   "outputs": [
    {
     "name": "stdout",
     "output_type": "stream",
     "text": [
      "549\n",
      "                             placeholderID Gender             Ethnicity  \\\n",
      "64    8AB50F5A-6467-43B0-818C-00215CA7A175      M  White (non-Hispanic)   \n",
      "93    83F2F832-0F1A-4F4F-B73A-0031C962795C      M    Hispanic Ethnicity   \n",
      "1044  11F8C2B2-8913-46A7-89EE-01A651EED9C6      M  White (non-Hispanic)   \n",
      "1355  4054748C-0CC4-4AD4-9DB2-0222A4FEDCB9      F  White (non-Hispanic)   \n",
      "1413  D071B6F5-D901-47CD-B63E-02357DDB88FD      M  White (non-Hispanic)   \n",
      "\n",
      "     citizenship First_Gen Pell_eligible permanent_ZIP Entering_term_code  \\\n",
      "64    US Citizen         N             N         60805               FS05   \n",
      "93    US Citizen         N             N         48823               FS04   \n",
      "1044  US Citizen         N             N         49285               FS04   \n",
      "1355  US Citizen         N             N         49424               FS12   \n",
      "1413  US Citizen         N             N         49341               FS02   \n",
      "\n",
      "      Entering_Term_Major_code Entering_Term_Major_name      ...        \\\n",
      "64                        5151           No Preference       ...         \n",
      "93                        3842                 Physics       ...         \n",
      "1044                      3742             Mathematics       ...         \n",
      "1355                      3470            Lyman Briggs       ...         \n",
      "1413                      3890                 Zoology       ...         \n",
      "\n",
      "     ACT_COMP ACT_EW ap66 calculus AB ap68 calculus BC  \\\n",
      "64       24.0    NaN              NaN              NaN   \n",
      "93       33.0                     NaN              5.0   \n",
      "1044     27.0                     4.0              NaN   \n",
      "1355     24.0     25              NaN              NaN   \n",
      "1413     30.0                     NaN              NaN   \n",
      "\n",
      "      ap69 Calculus AB Subscore Grade ap78 physics B ap80 physics C Mech  \\\n",
      "64                                NaN            NaN                 NaN   \n",
      "93                                5.0            5.0                 NaN   \n",
      "1044                              NaN            NaN                 4.0   \n",
      "1355                              NaN            NaN                 2.0   \n",
      "1413                              NaN            NaN                 NaN   \n",
      "\n",
      "     ap82 physics C Physics C Electricity & Magnet ap83 physics 1  \\\n",
      "64                                             NaN            NaN   \n",
      "93                                             NaN            NaN   \n",
      "1044                                           4.0            NaN   \n",
      "1355                                           NaN            NaN   \n",
      "1413                                           NaN            NaN   \n",
      "\n",
      "     ap84 physics 2  \n",
      "64              NaN  \n",
      "93              NaN  \n",
      "1044            NaN  \n",
      "1355            NaN  \n",
      "1413            NaN  \n",
      "\n",
      "[5 rows x 40 columns]\n"
     ]
    }
   ],
   "source": [
    "df_non_grad_demographs=pd.read_excel(\"graduating_astro_or_physics_demograph_set.xlsx\")  #load the data frame\n",
    "print(len(df_non_grad_demographs)) #check make sure this is 1323\n",
    "print(df_non_grad_demographs.head())"
   ]
  },
  {
   "cell_type": "code",
   "execution_count": 3,
   "metadata": {
    "collapsed": false
   },
   "outputs": [
    {
     "name": "stdout",
     "output_type": "stream",
     "text": [
      "27459\n",
      "                            placeholderID  term_seq_id term_code subj_code  \\\n",
      "173  A85B8D33-65D2-4301-AE36-001A401BFF01         1134      FS13       MTH   \n",
      "174  A85B8D33-65D2-4301-AE36-001A401BFF01         1134      FS13       MTH   \n",
      "175  A85B8D33-65D2-4301-AE36-001A401BFF01         1136      SS14       MTH   \n",
      "176  A85B8D33-65D2-4301-AE36-001A401BFF01         1136      SS14       PHY   \n",
      "177  A85B8D33-65D2-4301-AE36-001A401BFF01         1136      SS14       PHY   \n",
      "\n",
      "    crse_code  sctn_code grade_code repeat_status_flag  major_code major_name  \\\n",
      "173       132        NaN          T                NaN        3842   Physics    \n",
      "174       GCU        NaN          T                NaN        3842   Physics    \n",
      "175       133        NaN          T                NaN        3842   Physics    \n",
      "176       183        NaN          T                NaN        3842   Physics    \n",
      "177       251        NaN          T                NaN        3842   Physics    \n",
      "\n",
      "             dept_name     college_name            major_type  \n",
      "173  Physics-Astronomy  Natural Science  Physics/Astrophysics  \n",
      "174  Physics-Astronomy  Natural Science  Physics/Astrophysics  \n",
      "175  Physics-Astronomy  Natural Science  Physics/Astrophysics  \n",
      "176  Physics-Astronomy  Natural Science  Physics/Astrophysics  \n",
      "177  Physics-Astronomy  Natural Science  Physics/Astrophysics  \n"
     ]
    }
   ],
   "source": [
    "df_non_grad_class=pd.read_excel(\"graduating_astro_or_phy_class_set.xlsx\")\n",
    "print(len(df_non_grad_class)) \n",
    "print(df_non_grad_class.head())"
   ]
  },
  {
   "cell_type": "code",
   "execution_count": 4,
   "metadata": {
    "collapsed": false
   },
   "outputs": [
    {
     "name": "stdout",
     "output_type": "stream",
     "text": [
      "{'F': [89], 'M': [460]}\n"
     ]
    }
   ],
   "source": [
    "gender=df_non_grad_demographs[\"Gender\"].unique()\n",
    "result={}\n",
    "for mf in gender:\n",
    "    dem_count=df_non_grad_demographs[df_non_grad_demographs.Gender==mf] #this will now take the terms and sort out the grades\n",
    "    if mf not in result:                                 #this is to not count if there is no counts for the grade           \n",
    "        result[mf]=[]                                   #adds a 0 to the count\n",
    "    result[mf].append(len(dem_count))\n",
    "print(result)\n",
    "    "
   ]
  },
  {
   "cell_type": "code",
   "execution_count": 14,
   "metadata": {
    "collapsed": false
   },
   "outputs": [
    {
     "name": "stdout",
     "output_type": "stream",
     "text": [
      "[('American Indian/Alaskan Native (non-Hispanic)', [3]), ('Not Reported', [5]), ('Two or more races (non-Hispanic)', [6]), ('Asian (non-Hispanic)', [7]), ('Asian / Pacific Islander', [8]), ('Black or African American  (non-Hispanic)', [9]), ('Hispanic Ethnicity', [20]), ('International', [35]), ('White (non-Hispanic)', [456])]\n"
     ]
    }
   ],
   "source": [
    "unique=df_non_grad_demographs[\"Ethnicity\"].unique()\n",
    "result={}\n",
    "for mf in unique:\n",
    "    count=df_non_grad_demographs[df_non_grad_demographs.Ethnicity==mf] #this will now take the terms and sort out the grades\n",
    "    if mf not in result:                                 #this is to not count if there is no counts for the grade           \n",
    "        result[mf]=[]                                   #adds a 0 to the count\n",
    "    result[mf].append(len(count))\n",
    "result=sorted(result.items(), key=lambda x: x[1])\n",
    "print(result)\n",
    "    "
   ]
  },
  {
   "cell_type": "code",
   "execution_count": 15,
   "metadata": {
    "collapsed": false
   },
   "outputs": [
    {
     "name": "stdout",
     "output_type": "stream",
     "text": [
      "[('Lyman Briggs', [2]), ('non STEM', [3]), ('Engineering', [13]), ('Other STEM', [29]), ('Physics/Astrophysics', [502])]\n"
     ]
    }
   ],
   "source": [
    "unique=df_non_grad_demographs[\"Last_enrolled_major_type\"].unique()\n",
    "result={}\n",
    "for mf in unique:\n",
    "    count=df_non_grad_demographs[df_non_grad_demographs.Last_enrolled_major_type==mf] #this will now take the terms and sort out the grades\n",
    "    if mf not in result:                                 #this is to not count if there is no counts for the grade           \n",
    "        result[mf]=[]                                   #adds a 0 to the count\n",
    "    result[mf].append(len(count))\n",
    "result=sorted(result.items(), key=lambda x: x[1])\n",
    "print(result)"
   ]
  },
  {
   "cell_type": "code",
   "execution_count": 16,
   "metadata": {
    "collapsed": false
   },
   "outputs": [
    {
     "name": "stdout",
     "output_type": "stream",
     "text": [
      "{'Engineering': [13], 'Other STEM': [27], 'Physics/Astrophysics': [502], 'Lyman Briggs': [2], 'non STEM': [5]}\n"
     ]
    }
   ],
   "source": [
    "unique=df_non_grad_demographs[\"grad_major_type\"].unique()\n",
    "result={}\n",
    "for mf in unique:\n",
    "    count=df_non_grad_demographs[df_non_grad_demographs.grad_major_type==mf] #this will now take the terms and sort out the grades\n",
    "    if mf not in result:                                 #this is to not count if there is no counts for the grade           \n",
    "        result[mf]=[]                                   #adds a 0 to the count\n",
    "    result[mf].append(len(count))\n",
    "print(result)"
   ]
  },
  {
   "cell_type": "code",
   "execution_count": 17,
   "metadata": {
    "collapsed": false
   },
   "outputs": [
    {
     "name": "stdout",
     "output_type": "stream",
     "text": [
      "549\n",
      "[(' LBS Mathematics ', [1]), (' Professional Writing ', [1]), (' Materials Sci and Engineering ', [1]), (' Philosophy ', [1]), (' Political Science ', [1]), (' Chemical Physics ', [1]), (' Physiology ', [1]), (' LBS Astrophysics ', [1]), (' Horticulture ', [1]), (' Physical Science ', [1]), (' Marketing ', [1]), (' Russian ', [1]), (' Mechanical Engineering ', [2]), (' Chemistry ', [2]), (' Chemical Engineering ', [2]), (' Mathematics, Advanced ', [3]), (' Electrical Engineering ', [4]), (' Computer Engineering ', [4]), (' Computer Science ', [6]), (' Mathematics ', [12]), (' Astrophysics ', [126]), (' Physics ', [376])]\n"
     ]
    }
   ],
   "source": [
    "\n",
    "unique=df_non_grad_demographs[\"grad_major_name\"].unique()\n",
    "\n",
    "result={}\n",
    "for mf in unique:\n",
    "    count=df_non_grad_demographs[df_non_grad_demographs.grad_major_name==mf] #this will now take the terms and sort out the grades\n",
    "    if mf not in result:                                 #this is to not count if there is no counts for the grade           \n",
    "        result[mf]=[]                                   #adds a 0 to the count\n",
    "    result[mf].append(len(count))\n",
    "print(np.sum(list(result.values())))\n",
    "result=sorted(result.items(), key=lambda x: x[1])\n",
    "print(result)\n"
   ]
  },
  {
   "cell_type": "code",
   "execution_count": 9,
   "metadata": {
    "collapsed": false
   },
   "outputs": [
    {
     "name": "stdout",
     "output_type": "stream",
     "text": [
      "549\n",
      "[('Education', [1]), ('non STEM', [13]), ('No Preference', [33]), ('Other STEM', [61]), ('Engineering', [67]), ('Lyman Briggs', [87]), ('Physics/Astrophysics', [287])]\n"
     ]
    }
   ],
   "source": [
    "unique=df_non_grad_demographs[\"Entering_term_major_type\"].unique()\n",
    "\n",
    "result={}\n",
    "for mf in unique:\n",
    "    count=df_non_grad_demographs[df_non_grad_demographs.Entering_term_major_type==mf] #this will now take the terms and sort out the grades\n",
    "    if mf not in result:                                 #this is to not count if there is no counts for the grade           \n",
    "        result[mf]=[]                                   #adds a 0 to the count\n",
    "    result[mf].append(len(count))\n",
    "print(np.sum(list(result.values())))\n",
    "result=sorted(result.items(), key=lambda x: x[1])\n",
    "print(result)"
   ]
  },
  {
   "cell_type": "code",
   "execution_count": 18,
   "metadata": {
    "collapsed": false
   },
   "outputs": [
    {
     "name": "stdout",
     "output_type": "stream",
     "text": [
      "204\n",
      "[(nan, [0]), (' Physics (BS); Linguistics (MNUN)', [1]), (' Physics (ADDU); Physics and Geophysics (ADDU)', [1]), (' Computer Science (MNUN); Mathematics (MNUN); Spanish (MNUN)', [1]), (' Philosophy (MNUN)', [1]), (' Computer Science (MNUN); Physics (ADDU)', [1]), (' Mathematics (BS); Physics (ADDU)', [1]), (' Physics and Geophysics (BS)', [1]), (' Computer Science (MNUN); Mathematics (MNUN)', [1]), (' Political Science-Prelaw (BA)', [1]), (' Philosophy (ADDU)', [1]), (' Economics (BS)', [1]), (' Psychology (BS); Mathematics (MNUN)', [1]), (' Psychology (BS)', [1]), (' Computer Science (BS)', [1]), (' English (ADDU)', [1]), (' Physiology (BS)', [1]), (' Chemistry (BA)', [1]), (\" Women's and Gender Studies (BA); LGBTQ and Sexuality Studies (MNUN)\", [1]), (' Chinese (MNUN)', [1]), (' Film Studies (MNUN)', [1]), (' Actuarial Science (SPCU); Computer Science (MNUN); Mathematics (MNUN)', [1]), (' LBS Physics (ADDU)', [1]), (' Music (MNUN)', [1]), (' East Asian Languages &amp; Culture (BA); Asian Studies (SPCU)', [1]), (' East Asian Languages &amp; Culture (BA); Mathematics (MNUN)', [1]), (' Computational Mathematics (BS)', [1]), (' Astrophysics (BS); Mathematics (MNUN)', [1]), (' Human Biology (ADDU)', [1]), (' Physics (BA); Horticultural Science (CNCU)', [1]), (' Theatre (BA)', [1]), (' Physics (BS); Mathematics (ADDU)', [1]), (' Physics (BS); Computer Engineering (ADDU)', [1]), (' French (MNUN)', [1]), (' Public Admin and Public Policy (ADDU)', [1]), (' Materials Sci and Engineering (BS)', [1]), (' Arabic (MNUN)', [1]), (' Envir &amp; Sustainability Studies (MNUN)', [1]), (' Physics (BS); Computer Science (MNUN)', [1]), (' Computational Mathematics (BS); Mathematics (BS); Physics (BS); Statistics (BS)', [1]), (' History (BA)', [1]), (' Japanese (MNUN)', [1]), (' Chemistry (ADDU)', [1]), (' Psychology (ADDU)', [1]), (' Astrophysics (ADDU); Mathematics (MNUN)', [1]), (' East Asian Languages &amp; Culture (ADDU)', [1]), (' Mathematics, Advanced (ADDU); Physics (ADDU)', [1]), (' Philosophy and Law (MNUN)', [1]), (' Linguistics (BA); Physics (BS)', [1]), (' Mathematics (BS); Physics (BS)', [2]), (' German (MNUN)', [2]), (' Mathematics, Advanced (ADDU)', [2]), (' Chemical Physics (BS); Astrophysics (ADDU)', [2]), (' Philosophy (BA)', [2]), (' Cognitive Science (SPCU)', [2]), (' Chemical Physics (BS)', [3]), (' German (ADDU)', [3]), (' Mathematics, Advanced (BS)', [3]), (' Physics (BA)', [3]), (' Computer Science (MNUN)', [7]), (' Astrophysics (ADDU)', [9]), (' Astrophysics (BS)', [12]), (' Mathematics (BS)', [14]), (' Physics (ADDU)', [17]), (' Mathematics (ADDU)', [18]), (' Mathematics (MNUN)', [27]), (' Physics (BS)', [28])]\n"
     ]
    }
   ],
   "source": [
    "unique=df_non_grad_demographs[\"other_awards\"].unique()\n",
    "\n",
    "result={}\n",
    "for mf in unique:\n",
    "    count=df_non_grad_demographs[df_non_grad_demographs.other_awards==mf] #this will now take the terms and sort out the grades\n",
    "    if mf not in result:                                 #this is to not count if there is no counts for the grade           \n",
    "        result[mf]=[]                                   #adds a 0 to the count\n",
    "    result[mf].append(len(count))\n",
    "print(np.sum(list(result.values())))\n",
    "result=sorted(result.items(), key=lambda x: x[1])\n",
    "print(result)"
   ]
  },
  {
   "cell_type": "code",
   "execution_count": 11,
   "metadata": {
    "collapsed": false
   },
   "outputs": [
    {
     "name": "stdout",
     "output_type": "stream",
     "text": [
      "English ACT scores\n",
      "count    399.000000\n",
      "mean      26.699248\n",
      "std        4.502905\n",
      "min       14.000000\n",
      "25%             NaN\n",
      "50%             NaN\n",
      "75%             NaN\n",
      "max       36.000000\n",
      "Name: ACT_ENGL, dtype: float64\n",
      "Math ACT scores\n",
      "count    399.000000\n",
      "mean      29.203008\n",
      "std        3.882235\n",
      "min       15.000000\n",
      "25%             NaN\n",
      "50%             NaN\n",
      "75%             NaN\n",
      "max       36.000000\n",
      "Name: ACT_MATH, dtype: float64\n",
      "Reading ACT scores\n",
      "count    399.000000\n",
      "mean      27.651629\n",
      "std        5.021205\n",
      "min       12.000000\n",
      "25%             NaN\n",
      "50%             NaN\n",
      "75%             NaN\n",
      "max       36.000000\n",
      "Name: ACT_READ, dtype: float64\n",
      "Science ACT scores\n",
      "count    399.000000\n",
      "mean      28.521303\n",
      "std        4.103427\n",
      "min       15.000000\n",
      "25%             NaN\n",
      "50%             NaN\n",
      "75%             NaN\n",
      "max       36.000000\n",
      "Name: ACT_SCI, dtype: float64\n",
      "Overall ACT scores\n",
      "count    399.000000\n",
      "mean      27.959900\n",
      "std        3.702287\n",
      "min       14.000000\n",
      "25%             NaN\n",
      "50%             NaN\n",
      "75%             NaN\n",
      "max       36.000000\n",
      "Name: ACT_COMP, dtype: float64\n"
     ]
    },
    {
     "name": "stderr",
     "output_type": "stream",
     "text": [
      "C:\\Users\\joeyp\\Anaconda3\\lib\\site-packages\\numpy\\lib\\function_base.py:3823: RuntimeWarning: Invalid value encountered in percentile\n",
      "  RuntimeWarning)\n"
     ]
    }
   ],
   "source": [
    "print(\"English ACT scores\")\n",
    "print(df_non_grad_demographs.ACT_ENGL.describe())\n",
    "print(\"Math ACT scores\")\n",
    "print(df_non_grad_demographs.ACT_MATH.describe())\n",
    "print(\"Reading ACT scores\")\n",
    "print(df_non_grad_demographs.ACT_READ.describe())\n",
    "print(\"Science ACT scores\")\n",
    "print(df_non_grad_demographs.ACT_SCI.describe())\n",
    "print(\"Overall ACT scores\")\n",
    "print(df_non_grad_demographs.ACT_COMP.describe())"
   ]
  },
  {
   "cell_type": "markdown",
   "metadata": {},
   "source": [
    "#### Below is the older code that I used to find GPA's which I ran on the data set I have created"
   ]
  },
  {
   "cell_type": "code",
   "execution_count": 12,
   "metadata": {
    "collapsed": true
   },
   "outputs": [],
   "source": [
    "def Average_GPAs_of_Major_category(data_frame,subject,course,course_name):\n",
    "\n",
    "    print('\\x1b[1;32m' + \" GPA's for Majors in\"+'\\x1b[0m',subject,course,\"       \",course_name) #this formats and print the title of the output\n",
    "    class_sort=data_frame[data_frame.crse_code==course]              #this will create a new data set will just the course\n",
    "    subject_sort=class_sort[class_sort.subj_code==subject]       #this will sort it through even more with the subject\n",
    "\n",
    "    unique_major_type=list(subject_sort[\"major_type\"].unique()) #this creates a list of all the major categories\n",
    "    unique_major_type=np.sort(unique_major_type)                #this sorts the list so that it is the same each time\n",
    "\n",
    "    fmt_str = \"{:21} | GPA: {:1.4f} | Sample Size: {:<6}\"     #this is the format of the output\n",
    "    unique_grade =[\"0.0\",\"1.0\",\"1.5\",\"2.0\",\"2.5\",\"3.0\",\"3.5\",\"4.0\"] #this will be the grades we will look for\n",
    "    total_counts=0                   #this will be added to, to give us the total sample size for the course\n",
    "\n",
    "    for major_cat in unique_major_type:\n",
    "        major_cat_sort=subject_sort[subject_sort.major_type==major_cat] #this will loop through each major category \n",
    "        if len(major_cat_sort) <=20:              #this leaves out the major categories if there is no counts for it\n",
    "            continue\n",
    "\n",
    "\n",
    "        result= {}                                     #We will add the grade counts to a dictionary to use later\n",
    "        for grade in unique_grade:                     #loops through the grades and counts them\n",
    "            grade_term_sort=major_cat_sort[major_cat_sort.grade_code==grade] #this will now take the majors and sort out the grades\n",
    "\n",
    "            if grade not in result:                      #this is to not count if there is no counts for the grade\n",
    "                result[grade]=[]                          #adds a 0 to the count\n",
    "            result[grade].append(len(grade_term_sort))    #this will append the counts to the dictonary for each grade\n",
    "        #print(result)\n",
    "\n",
    "        top=0                         #this will be the numerator to find the average gpa\n",
    "        bottom=0                      #this will be the demoninator to find the average with\n",
    "        for key,value in result.items():  #this will loop through the dictonary created above\n",
    "            top += float(key)*value[0]     #this will take the grade, make it a float, then multiply the counts\n",
    "            bottom += value[0]             #this takes just the counts to make the denominator\n",
    "        if bottom != 0:\n",
    "            average=top/bottom             #this now averages the gpa's of that major throughout the years\n",
    "        else:\n",
    "            print(\"{:21} | GPA: NaN    | Sample Size: None \".format(major_cat))\n",
    "            continue \n",
    "\n",
    "        sample_size=np.sum(list(result.values()))   #this will count the number of majors in the sample\n",
    "        total_counts=total_counts+sample_size       #this will add each major's counts to a totaling counts\n",
    "\n",
    "\n",
    "                #this will print out the major category, average gpa of that category, \n",
    "                #and the sample size of the number of students averaged through\n",
    "        print(fmt_str.format( major_cat, average,sample_size))    \n",
    "\n",
    "    all_result={}                                                     #we will add the grades and counts to this dictonary\n",
    "    for grades in unique_grade:                                       #this will loop through for the grades\n",
    "        grade_term_sort=subject_sort[subject_sort.grade_code==grades] #this will now take the terms and sort out the grades\n",
    "        if grade not in all_result:                                 #this is to not count if there is no counts for the grade           \n",
    "            all_result[grades]=[]                                   #adds a 0 to the count\n",
    "        all_result[grades].append(len(grade_term_sort))             #this will append the counts to the dictonary for each grade\n",
    "\n",
    "    for key,value in all_result.items():       #this will now loop through the overall dictonary\n",
    "        top += float(key)*value[0]             #this will take the grade, make it a float, then multiply the counts\n",
    "        bottom += value[0]                     #this takes just the counts to make the denominator\n",
    "    all_average=top/bottom                     #this now averages the gpa's of that major throughout the years\n",
    "\n",
    "    print(fmt_str.format('\\x1b[1;33m'+'Overall              '+'\\x1b[0m',all_average,total_counts))\n",
    "    print(\" \")\n",
    "\n"
   ]
  },
  {
   "cell_type": "code",
   "execution_count": 13,
   "metadata": {
    "collapsed": false
   },
   "outputs": [
    {
     "name": "stdout",
     "output_type": "stream",
     "text": [
      "\u001b[1;32m GPA's for Majors in\u001b[0m PHY 183         Physics for Scientists and Engineers I\n",
      "Engineering           | GPA: 2.6475 | Sample Size: 427   \n",
      "Lyman Briggs          | GPA: 2.9583 | Sample Size: 12    \n",
      "No Preference         | GPA: 2.7500 | Sample Size: 18    \n",
      "Other STEM            | GPA: 2.9583 | Sample Size: 84    \n",
      "Physics/Astrophysics  | GPA: 2.7731 | Sample Size: 531   \n",
      "\u001b[1;33mOverall              \u001b[0m | GPA: 2.7452 | Sample Size: 1072  \n",
      " \n",
      "\u001b[1;32m GPA's for Majors in\u001b[0m PHY 184         Physics for Scientists and Engineers II\n",
      "Engineering           | GPA: 2.6254 | Sample Size: 335   \n",
      "Lyman Briggs          | GPA: 3.4474 | Sample Size: 19    \n",
      "Other STEM            | GPA: 2.8036 | Sample Size: 84    \n",
      "Physics/Astrophysics  | GPA: 2.7448 | Sample Size: 725   \n",
      "\u001b[1;33mOverall              \u001b[0m | GPA: 2.7310 | Sample Size: 1163  \n",
      " \n",
      "\u001b[1;32m GPA's for Majors in\u001b[0m PHY 215         Thermodynamics & Modrn Physics\n",
      "Lyman Briggs          | GPA: 3.4000 | Sample Size: 50    \n",
      "Other STEM            | GPA: 2.9302 | Sample Size: 43    \n",
      "Physics/Astrophysics  | GPA: 2.9000 | Sample Size: 745   \n",
      "\u001b[1;33mOverall              \u001b[0m | GPA: 2.9159 | Sample Size: 838   \n",
      " \n",
      "\u001b[1;32m GPA's for Majors in\u001b[0m PHY 321         Classical Mechanics I\n",
      "Lyman Briggs          | GPA: 3.0417 | Sample Size: 36    \n",
      "Other STEM            | GPA: 2.5000 | Sample Size: 36    \n",
      "Physics/Astrophysics  | GPA: 2.6305 | Sample Size: 728   \n",
      "\u001b[1;33mOverall              \u001b[0m | GPA: 2.6379 | Sample Size: 800   \n",
      " \n",
      "\u001b[1;32m GPA's for Majors in\u001b[0m PHY 410         Thermal and Statistical Physics\n",
      "Physics/Astrophysics  | GPA: 2.7281 | Sample Size: 559   \n",
      "\u001b[1;33mOverall              \u001b[0m | GPA: 2.7370 | Sample Size: 559   \n",
      " \n",
      "\u001b[1;32m GPA's for Majors in\u001b[0m PHY 471         Quantum Physics I \n",
      "Lyman Briggs          | GPA: 2.8333 | Sample Size: 21    \n",
      "Physics/Astrophysics  | GPA: 2.6677 | Sample Size: 635   \n",
      "\u001b[1;33mOverall              \u001b[0m | GPA: 2.6762 | Sample Size: 656   \n",
      " \n",
      "\u001b[1;32m GPA's for Majors in\u001b[0m PHY 481          Electricity and Magnetism I\n",
      "Physics/Astrophysics  | GPA: 2.5315 | Sample Size: 603   \n",
      "\u001b[1;33mOverall              \u001b[0m | GPA: 2.5401 | Sample Size: 603   \n",
      " \n",
      "\u001b[1;32m GPA's for Majors in\u001b[0m MTH 132         Calculus I\n",
      "Engineering           | GPA: 2.1240 | Sample Size: 496   \n",
      "Lyman Briggs          | GPA: 3.1250 | Sample Size: 4     \n",
      "No Preference         | GPA: 2.4767 | Sample Size: 43    \n",
      "Other STEM            | GPA: 2.3105 | Sample Size: 124   \n",
      "Physics/Astrophysics  | GPA: 2.2209 | Sample Size: 516   \n",
      "non STEM              | GPA: 2.3333 | Sample Size: 24    \n",
      "\u001b[1;33mOverall              \u001b[0m | GPA: 2.2071 | Sample Size: 1207  \n",
      " \n",
      "\u001b[1;32m GPA's for Majors in\u001b[0m MTH 133         Calculus II\n",
      "Engineering           | GPA: 1.7150 | Sample Size: 535   \n",
      "Lyman Briggs          | GPA: 2.8125 | Sample Size: 8     \n",
      "No Preference         | GPA: 2.1216 | Sample Size: 37    \n",
      "Other STEM            | GPA: 1.9000 | Sample Size: 150   \n",
      "Physics/Astrophysics  | GPA: 1.9980 | Sample Size: 742   \n",
      "non STEM              | GPA: 1.0667 | Sample Size: 30    \n",
      "\u001b[1;33mOverall              \u001b[0m | GPA: 1.8652 | Sample Size: 1502  \n",
      " \n",
      "\u001b[1;32m GPA's for Majors in\u001b[0m MTH 234         Multivariable Calculus\n",
      "Engineering           | GPA: 1.7274 | Sample Size: 541   \n",
      "Lyman Briggs          | GPA: 3.2812 | Sample Size: 32    \n",
      "No Preference         | GPA: 1.9524 | Sample Size: 21    \n",
      "Other STEM            | GPA: 2.1128 | Sample Size: 133   \n",
      "Physics/Astrophysics  | GPA: 2.1903 | Sample Size: 988   \n",
      "non STEM              | GPA: 1.5682 | Sample Size: 22    \n",
      "\u001b[1;33mOverall              \u001b[0m | GPA: 2.0462 | Sample Size: 1737  \n",
      " \n",
      "\u001b[1;32m GPA's for Majors in\u001b[0m MTH 235         Differential Equations\n",
      "Engineering           | GPA: 2.0369 | Sample Size: 352   \n",
      "Lyman Briggs          | GPA: 2.8846 | Sample Size: 26    \n",
      "Other STEM            | GPA: 2.2378 | Sample Size: 82    \n",
      "Physics/Astrophysics  | GPA: 2.2995 | Sample Size: 1020  \n",
      "\u001b[1;33mOverall              \u001b[0m | GPA: 2.2678 | Sample Size: 1480  \n",
      " \n",
      "\u001b[1;32m GPA's for Majors in\u001b[0m MTH 309         Linear Algebra\n",
      "Lyman Briggs          | GPA: 3.2200 | Sample Size: 25    \n",
      "Other STEM            | GPA: 2.1193 | Sample Size: 88    \n",
      "Physics/Astrophysics  | GPA: 2.4098 | Sample Size: 377   \n",
      "\u001b[1;33mOverall              \u001b[0m | GPA: 2.4064 | Sample Size: 490   \n",
      " \n"
     ]
    }
   ],
   "source": [
    "Average_GPAs_of_Major_category(df_non_grad_class,\"PHY\",\"183\",\"Physics for Scientists and Engineers I\")\n",
    "\n",
    "Average_GPAs_of_Major_category(df_non_grad_class,\"PHY\",\"184\",\"Physics for Scientists and Engineers II\")\n",
    "\n",
    "Average_GPAs_of_Major_category(df_non_grad_class,\"PHY\",\"215\",\"Thermodynamics & Modrn Physics\")\n",
    "\n",
    "Average_GPAs_of_Major_category(df_non_grad_class,\"PHY\",\"321\",\"Classical Mechanics I\")\n",
    "\n",
    "Average_GPAs_of_Major_category(df_non_grad_class,\"PHY\",\"410\",\"Thermal and Statistical Physics\")\n",
    "\n",
    "Average_GPAs_of_Major_category(df_non_grad_class,\"PHY\",\"471\",\"Quantum Physics I \")\n",
    "\n",
    "Average_GPAs_of_Major_category(df_non_grad_class,\"PHY\",\"481\",\" Electricity and Magnetism I\")\n",
    "\n",
    "Average_GPAs_of_Major_category(df_non_grad_class,'MTH',\"132\", 'Calculus I')\n",
    "#Average_GPAs_of_Major_category(df_non_grad_class,'LB',\"118\" , 'LB Calculus I')\n",
    "\n",
    "Average_GPAs_of_Major_category(df_non_grad_class,'MTH',\"133\", 'Calculus II')\n",
    "#Average_GPAs_of_Major_category(df_non_grad_class,'LB',\"119\" , 'LB Calculus II')\n",
    "#Average_GPAs_of_Major_category(df_non_grad_class,'LB',\"220\", 'LB Calculus III')\n",
    "\n",
    "Average_GPAs_of_Major_category(df_non_grad_class,'MTH',\"234\",  'Multivariable Calculus')\n",
    "Average_GPAs_of_Major_category(df_non_grad_class,'MTH',\"235\", 'Differential Equations' )\n",
    "\n",
    "Average_GPAs_of_Major_category(df_non_grad_class,'MTH',\"309\", 'Linear Algebra')\n",
    "#Average_GPAs_of_Major_category(df_non_grad_class,'MTH',\"320\", 'Analysis I')\n",
    "\n",
    "#Average_GPAs_of_Major_category(df_non_grad_class,'MTH',\"310\", 'Abstract Algebra I')\n",
    "#Average_GPAs_of_Major_category(df_non_grad_class,'MTH',\"340\", 'Ordinary Differential Equations')\n"
   ]
  },
  {
   "cell_type": "code",
   "execution_count": null,
   "metadata": {
    "collapsed": false
   },
   "outputs": [],
   "source": []
  }
 ],
 "metadata": {
  "kernelspec": {
   "display_name": "Python [Root]",
   "language": "python",
   "name": "Python [Root]"
  },
  "language_info": {
   "codemirror_mode": {
    "name": "ipython",
    "version": 3
   },
   "file_extension": ".py",
   "mimetype": "text/x-python",
   "name": "python",
   "nbconvert_exporter": "python",
   "pygments_lexer": "ipython3",
   "version": "3.5.1"
  }
 },
 "nbformat": 4,
 "nbformat_minor": 0
}
